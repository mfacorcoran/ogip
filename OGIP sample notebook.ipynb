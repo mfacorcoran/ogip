{
 "cells": [
  {
   "cell_type": "code",
   "execution_count": 1,
   "metadata": {
    "collapsed": false
   },
   "outputs": [],
   "source": [
    "# put the ogip.py file in your $PYTHON_PATH\n",
    "\n",
    "from ogip.ogip_dictionary import *\n"
   ]
  },
  {
   "cell_type": "code",
   "execution_count": 2,
   "metadata": {
    "collapsed": false
   },
   "outputs": [],
   "source": [
    "# this will return the docstring help describing this python function\n",
    "ogip_dictionary?"
   ]
  },
  {
   "cell_type": "code",
   "execution_count": 3,
   "metadata": {
    "collapsed": true
   },
   "outputs": [],
   "source": [
    "# this returns the dictionary schema defining the \n",
    "# FITS TIMING file format - the only one that currently works!\n",
    "timing_dictionary=ogip_dictionary('TIMING') "
   ]
  },
  {
   "cell_type": "code",
   "execution_count": 4,
   "metadata": {
    "collapsed": false
   },
   "outputs": [
    {
     "data": {
      "text/plain": [
       "['REFERENCE', 'GTI', 'TIMEREF', 'RATE', 'ENEBAND', 'EVENTS']"
      ]
     },
     "execution_count": 4,
     "metadata": {},
     "output_type": "execute_result"
    }
   ],
   "source": [
    "# the keys of the dictionary are the possible file extensions\n",
    "# \n",
    "timing_dictionary.keys()\n"
   ]
  },
  {
   "cell_type": "code",
   "execution_count": 5,
   "metadata": {
    "collapsed": false
   },
   "outputs": [
    {
     "data": {
      "text/plain": [
       "'OGIP/93-003'"
      ]
     },
     "execution_count": 5,
     "metadata": {},
     "output_type": "execute_result"
    }
   ],
   "source": [
    "timing_dictionary['REFERENCE']"
   ]
  },
  {
   "cell_type": "code",
   "execution_count": 6,
   "metadata": {
    "collapsed": false
   },
   "outputs": [
    {
     "data": {
      "text/plain": [
       "['TIME', 'RATE|COUNTS']"
      ]
     },
     "execution_count": 6,
     "metadata": {},
     "output_type": "execute_result"
    }
   ],
   "source": [
    "# get the  required columns.  \n",
    "# Allowed variants of required columns are separated by a pipe \"|\"\n",
    "timing_dictionary['RATE']['COLUMNS']['REQUIRED']"
   ]
  },
  {
   "cell_type": "code",
   "execution_count": 7,
   "metadata": {
    "collapsed": false
   },
   "outputs": [
    {
     "data": {
      "text/plain": [
       "['TELESCOP',\n",
       " 'INSTRUME',\n",
       " 'DATE-OBS',\n",
       " 'DATE-END',\n",
       " 'ONTIME',\n",
       " 'TIMEZERO|TIMEZERI+TIMEZERF',\n",
       " 'TSTART|TSTARTI+TSTARTF',\n",
       " 'TSTOP|TSTOPI+TSTOPF',\n",
       " 'TIMESYS',\n",
       " 'TIMEUNIT',\n",
       " 'TIMEREF',\n",
       " 'HDUCLASS[OGIP]',\n",
       " 'HDUCLAS1[LIGHTCURVE]']"
      ]
     },
     "execution_count": 7,
     "metadata": {},
     "output_type": "execute_result"
    }
   ],
   "source": [
    "# get the required keywords\n",
    "# Allowed variants of required columns are separated by a pipe \"|\"\n",
    "# values for compound variants are separated by \"+\"\n",
    "# for example you can specify TSTART or TSTARTI+TSTARTF as header keywords\n",
    "#\n",
    "timing_dictionary['RATE']['KEYWORDS']['REQUIRED'] "
   ]
  },
  {
   "cell_type": "code",
   "execution_count": null,
   "metadata": {
    "collapsed": true
   },
   "outputs": [],
   "source": []
  }
 ],
 "metadata": {
  "kernelspec": {
   "display_name": "Python 2",
   "language": "python",
   "name": "python2"
  },
  "language_info": {
   "codemirror_mode": {
    "name": "ipython",
    "version": 2
   },
   "file_extension": ".py",
   "mimetype": "text/x-python",
   "name": "python",
   "nbconvert_exporter": "python",
   "pygments_lexer": "ipython2",
   "version": "2.7.10"
  }
 },
 "nbformat": 4,
 "nbformat_minor": 0
}
